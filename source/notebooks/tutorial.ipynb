{
 "cells": [
  {
   "cell_type": "markdown",
   "metadata": {},
   "source": [
    "# DualNum and Dual_c Tutorial\n",
    "\n",
    "This notebook introduces the `DualNum` package, including its Python-based `Dual` implementation and its Cythonized faster `Dual_c` version. We'll explore their features, basic usage, and performance differences.\n",
    "\n",
    "By the end of this notebook, you will:\n",
    "- Understand the fundamentals of dual numbers.\n",
    "- Learn how to use the `Dual` and `Dual_c` classes for arithmetic, trigonometric, and other mathematical operations.\n",
    "- See how to compute derivatives using dual numbers.\n",
    "- Compare performance between the Python and Cython implementations.\n",
    "- Visualize derivatives with matplotlib."
   ]
  },
  {
   "cell_type": "code",
   "execution_count": 29,
   "metadata": {},
   "outputs": [],
   "source": [
    "import sys\n",
    "from pathlib import Path\n",
    "import os\n",
    "import matplotlib.pyplot as plt\n",
    "import time\n",
    "\n",
    "root_dir = Path(os.getcwd()).resolve().parents[0]\n",
    "if str(root_dir) not in sys.path:\n",
    "    sys.path.insert(0, str(root_dir))\n"
   ]
  },
  {
   "cell_type": "code",
   "execution_count": 30,
   "metadata": {},
   "outputs": [
    {
     "name": "stdout",
     "output_type": "stream",
     "text": [
      "DualNum is successfully imported!\n",
      "DualNum_c is successfully imported!\n"
     ]
    }
   ],
   "source": [
    "from DualNum import Dual, compute_derivative\n",
    "from DualNum_c import Dual_c\n",
    "print(\"DualNum is successfully imported!\")\n",
    "print(\"DualNum_c is successfully imported!\")\n"
   ]
  },
  {
   "cell_type": "markdown",
   "metadata": {},
   "source": [
    "## Basic Usage with Dual\n",
    "\n",
    "The `Dual` class represents dual numbers, which have a real part and a dual part. You can perform operations like addition, subtraction, multiplication, and division, as well as compute transcendental functions like sine, cosine, and logarithm.\n"
   ]
  },
  {
   "cell_type": "code",
   "execution_count": 4,
   "metadata": {},
   "outputs": [
    {
     "name": "stdout",
     "output_type": "stream",
     "text": [
      "y: Dual(real=4, dual=2)\n",
      "z: Dual(real=1.6024446073856269, dual=0.0838531634528576)\n"
     ]
    }
   ],
   "source": [
    "# Create a dual number with real part 2 and dual part 1\n",
    "x = Dual(2, 1)\n",
    "\n",
    "# Perform operations\n",
    "y = x + x\n",
    "z = x.sin() + x.log()\n",
    "\n",
    "# Print results\n",
    "print(\"y:\", y)  # y = 2x\n",
    "print(\"z:\", z)  # z = sin(x) + log(x)\n"
   ]
  },
  {
   "cell_type": "markdown",
   "metadata": {},
   "source": [
    "## Basic Usage with Dual_c\n",
    "\n",
    "The `Dual_c` class in the `DualNum_c` module is the Cythonized version of `Dual`. It offers the same functionality but with significantly improved performance for computationally intensive tasks.\n"
   ]
  },
  {
   "cell_type": "code",
   "execution_count": 12,
   "metadata": {},
   "outputs": [
    {
     "name": "stdout",
     "output_type": "stream",
     "text": [
      "y (Dual_c): Dual_c(real=4, dual=2)\n",
      "z (Dual_c): Dual_c(real=1.6024446073856269, dual=0.0838531634528576)\n"
     ]
    }
   ],
   "source": [
    "# Create a dual number with real part 2 and dual part 1\n",
    "x = Dual_c(2, 1)\n",
    "\n",
    "# Perform operations\n",
    "y = x + x\n",
    "z = x.sin() + x.log()\n",
    "\n",
    "# Print results\n",
    "print(\"y (Dual_c):\", y)  # y = 2x\n",
    "print(\"z (Dual_c):\", z)  # z = sin(x) + log(x)\n"
   ]
  },
  {
   "cell_type": "markdown",
   "metadata": {},
   "source": [
    "## Comparing Performance: Dual vs Dual_c\n",
    "\n",
    "Let's compare the performance of the `Dual` and `Dual_c` implementations for a computationally intensive task.\n"
   ]
  },
  {
   "cell_type": "code",
   "execution_count": 25,
   "metadata": {},
   "outputs": [
    {
     "name": "stdout",
     "output_type": "stream",
     "text": [
      "Time taken with Dual: 0.0570 seconds\n",
      "Time taken with Dual_c: 0.0420 seconds\n",
      "Speedup: 1.36x\n"
     ]
    }
   ],
   "source": [
    "# Define a function\n",
    "def f(x):\n",
    "    return (x.sin()).log() + (x * x * x.cos())\n",
    "\n",
    "# Compute derivatives using Dual\n",
    "start = time.time()\n",
    "for _ in range(10000):\n",
    "    compute_derivative(f, 2, Dual)\n",
    "end = time.time()\n",
    "print(f\"Time taken with Dual: {end - start:.4f} seconds\")\n",
    "\n",
    "# Compute derivatives using Dual_c\n",
    "start_c = time.time()\n",
    "for _ in range(10000):\n",
    "    compute_derivative(f, 2, Dual_c)\n",
    "end_c = time.time()\n",
    "print(f\"Time taken with Dual_c: {end_c - start_c:.4f} seconds\")\n",
    "\n",
    "print(f\"Speedup: {(end - start) / (end_c - start_c):.2f}x\")\n"
   ]
  },
  {
   "cell_type": "markdown",
   "metadata": {},
   "source": [
    "## Derivative Computation\n",
    "\n",
    "Dual numbers can be used to compute derivatives of functions efficiently. The `compute_derivative` function simplifies this process. You pass the function, the point of interest, and the `Dual` class as arguments.\n"
   ]
  },
  {
   "cell_type": "code",
   "execution_count": 5,
   "metadata": {},
   "outputs": [
    {
     "name": "stdout",
     "output_type": "stream",
     "text": [
      "The derivative of f(x) at x=1.5 is -1.9612372705533612\n"
     ]
    }
   ],
   "source": [
    "# Define a function\n",
    "def f(x):\n",
    "    return (x.sin()).log() + (x * x * x.cos())\n",
    "\n",
    "# Compute the derivative at x = 1.5\n",
    "x = 1.5\n",
    "derivative = compute_derivative(f, x, Dual)\n",
    "print(f\"The derivative of f(x) at x={x} is {derivative}\")\n"
   ]
  },
  {
   "cell_type": "markdown",
   "metadata": {},
   "source": [
    "## Visualization of Derivatives\n",
    "\n",
    "We can visualize the derivative of a function over a range of values. This is particularly helpful for understanding the behavior of the function.\n"
   ]
  },
  {
   "cell_type": "code",
   "execution_count": 26,
   "metadata": {},
   "outputs": [
    {
     "data": {
      "image/png": "[encoded data removed]",
      "text/plain": [
       "<Figure size 800x600 with 1 Axes>"
      ]
     },
     "metadata": {},
     "output_type": "display_data"
    }
   ],
   "source": [
    "# Define the function\n",
    "def f(x):\n",
    "    return (x.sin()).log() + ((x * x) * x.cos())\n",
    "\n",
    "# Generate x values\n",
    "x_values = [i / 10 for i in range(1, 100) if Dual(i / 10, 1).sin().real > 0]\n",
    "\n",
    "# Compute derivatives using Dual\n",
    "y_values_dual = [compute_derivative(f, x, Dual) for x in x_values]\n",
    "\n",
    "# Compute derivatives using Dual_c\n",
    "y_values_dual_c = [compute_derivative(f, x, Dual_c) for x in x_values]\n",
    "\n",
    "# Plot the derivatives\n",
    "plt.figure(figsize=(8, 6))\n",
    "plt.plot(x_values, y_values_dual, label=\"f'(x) (Dual)\")\n",
    "plt.plot(x_values, y_values_dual_c, label=\"f'(x) (Dual_c)\", linestyle=\"dashed\")\n",
    "plt.xlabel(\"x\")\n",
    "plt.ylabel(\"f'(x)\")\n",
    "plt.title(\"Visualization of f'(x)\")\n",
    "plt.legend()\n",
    "plt.grid()\n",
    "plt.show()\n"
   ]
  },
  {
   "cell_type": "markdown",
   "metadata": {},
   "source": [
    "## Error Handling\n",
    "\n",
    "The `Dual` class is robust and will raise appropriate errors for invalid operations. For example, attempting to compute the logarithm of a non-positive number will raise a `ValueError`.\n"
   ]
  },
  {
   "cell_type": "code",
   "execution_count": 9,
   "metadata": {},
   "outputs": [
    {
     "name": "stdout",
     "output_type": "stream",
     "text": [
      "Error: Logarithm of a non-positive number is undefined.\n"
     ]
    }
   ],
   "source": [
    "try:\n",
    "    x = Dual(-1, 1)\n",
    "    print(x.log())\n",
    "except ValueError as e:\n",
    "    print(f\"Error: {e}\")\n"
   ]
  },
  {
   "cell_type": "markdown",
   "metadata": {},
   "source": [
    "## Comparing Dual Numbers to Numerical Differentiation\n",
    "\n",
    "Dual numbers compute derivatives exactly, while numerical differentiation (e.g., finite differences) is prone to errors due to step size. Let’s compare the two methods.\n"
   ]
  },
  {
   "cell_type": "code",
   "execution_count": 27,
   "metadata": {},
   "outputs": [
    {
     "name": "stdout",
     "output_type": "stream",
     "text": [
      "Dual number derivative at x=1.5: -1.9612372705533612\n",
      "Numerical derivative at x=1.5: -1.9612372706409584\n"
     ]
    }
   ],
   "source": [
    "# Numerical differentiation\n",
    "def numerical_derivative(func, x, h=1e-5):\n",
    "    return (func(x + h) - func(x - h)) / (2 * h)\n",
    "\n",
    "# Define the function\n",
    "def f(x):\n",
    "    return (x.sin()).log() + ((x * x) * x.cos())\n",
    "\n",
    "# Compute derivatives\n",
    "x = 1.5\n",
    "dual_derivative = compute_derivative(f, x, Dual)\n",
    "numerical_derivative_value = numerical_derivative(lambda x: f(Dual(x, 0)).real, x)\n",
    "\n",
    "print(f\"Dual number derivative at x={x}: {dual_derivative}\")\n",
    "print(f\"Numerical derivative at x={x}: {numerical_derivative_value}\")\n"
   ]
  },
  {
   "cell_type": "markdown",
   "metadata": {},
   "source": [
    "## Advanced Features\n",
    "\n",
    "The `Dual` class also supports hyperbolic functions and other advanced operations. Here's an example.\n"
   ]
  },
  {
   "cell_type": "code",
   "execution_count": 28,
   "metadata": {},
   "outputs": [
    {
     "name": "stdout",
     "output_type": "stream",
     "text": [
      "Hyperbolic result: Dual(real=7.38905609893065, dual=7.38905609893065)\n"
     ]
    }
   ],
   "source": [
    "# Hyperbolic functions\n",
    "x = Dual(2, 1)\n",
    "y = x.sinh() + x.cosh()\n",
    "print(\"Hyperbolic result:\", y)\n"
   ]
  },
  {
   "cell_type": "markdown",
   "metadata": {},
   "source": [
    "## Summary\n",
    "\n",
    "In this notebook, we explored the following:\n",
    "- Basics of dual numbers and their operations.\n",
    "- How to compute derivatives with `DualNum`.\n",
    "- Visualizing derivatives and comparing dual numbers to numerical methods.\n",
    "\n",
    "For more information, refer to the [documentation](../index.html) or check the source code.\n"
   ]
  },
  {
   "cell_type": "code",
   "execution_count": 41,
   "metadata": {},
   "outputs": [
    {
     "name": "stdout",
     "output_type": "stream",
     "text": [
      "Python Version Time: 0.0421 seconds\n",
      "Cython Version Time: 0.0335 seconds\n",
      "Speedup: 20.32%\n"
     ]
    }
   ],
   "source": [
    "import time\n",
    "import numpy as np\n",
    "from DualNum import Dual\n",
    "from DualNum_c import Dual_c\n",
    "\n",
    "def f(x):\n",
    "    return x.exp() * x.cos() * x.sin()\n",
    "\n",
    "# Define the range and points\n",
    "x_values = np.linspace(1, 100, 10000)\n",
    "\n",
    "# Using Dual (Python version)\n",
    "start_python = time.time()\n",
    "derivatives_python = [f(Dual(x, 1)).dual for x in x_values]\n",
    "end_python = time.time()\n",
    "time_python = end_python - start_python\n",
    "\n",
    "# Using Dual_c (Cython version)\n",
    "start_cython = time.time()\n",
    "derivatives_cython = [f(Dual_c(x, 1)).dual for x in x_values]\n",
    "end_cython = time.time()\n",
    "time_cython = end_cython - start_cython\n",
    "\n",
    "# Compare the performance\n",
    "speedup = (time_python - time_cython) / time_python * 100\n",
    "print(f\"Python Version Time: {time_python:.4f} seconds\")\n",
    "print(f\"Cython Version Time: {time_cython:.4f} seconds\")\n",
    "print(f\"Speedup: {speedup:.2f}%\")\n"
   ]
  },
  {
   "cell_type": "code",
   "execution_count": null,
   "metadata": {},
   "outputs": [],
   "source": []
  }
 ],
 "metadata": {
  "kernelspec": {
   "display_name": "dual_autodiff_venv",
   "language": "python",
   "name": "python3"
  },
  "language_info": {
   "codemirror_mode": {
    "name": "ipython",
    "version": 3
   },
   "file_extension": ".py",
   "mimetype": "text/x-python",
   "name": "python",
   "nbconvert_exporter": "python",
   "pygments_lexer": "ipython3",
   "version": "3.12.7"
  }
 },
 "nbformat": 4,
 "nbformat_minor": 2
}
